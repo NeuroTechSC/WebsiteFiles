{
 "cells": [
  {
   "cell_type": "code",
   "execution_count": 21,
   "metadata": {},
   "outputs": [
    {
     "name": "stdout",
     "output_type": "stream",
     "text": [
      "37\n",
      "<class 'int'>\n",
      "./some/directory/here.png\n",
      "here.png\n"
     ]
    }
   ],
   "source": [
    "string = 'some things herse <><> asfasfda src=\"./some/directory/here.png\"'\n",
    "\n",
    "start = string.find(\"src=\") + 5\n",
    "\n",
    "i = 0\n",
    "start = int(start)\n",
    "print(start)\n",
    "print(type(start))\n",
    "\n",
    "end = string.find(\"\\\"\", start)\n",
    "\n",
    "print(string[start:end].split('/')[-1])\n",
    "\n"
   ]
  },
  {
   "cell_type": "code",
   "execution_count": 28,
   "metadata": {},
   "outputs": [
    {
     "name": "stdout",
     "output_type": "stream",
     "text": [
      "55 22\n",
      "./somethinghere/sfdg/picture.jpeg\n"
     ]
    }
   ],
   "source": [
    "string = \"sfgdjghskjhkahj: url(\\\"./somethinghere/sfdg/picture.jpeg\\\")\"\n",
    "\n",
    "start = string.find(\"url(\") + 5\n",
    "\n",
    "end = string.find(\"\\\"\", start)\n",
    "\n",
    "print(end,start)\n",
    "\n",
    "print(string[start:end])"
   ]
  },
  {
   "cell_type": "code",
   "execution_count": 27,
   "metadata": {},
   "outputs": [
    {
     "data": {
      "text/plain": [
       "['string 1', 'seven', 'string 3']"
      ]
     },
     "execution_count": 27,
     "metadata": {},
     "output_type": "execute_result"
    }
   ],
   "source": [
    "stringArr = ['string 1', 'string 2', 'string 3']\n",
    "\n",
    "for thing in stringArr:\n",
    "    thing = 'seven'\n",
    "\n",
    "stringArr\n",
    "\n",
    "stringArr[1] = 'seven'\n",
    "\n",
    "stringArr"
   ]
  },
  {
   "cell_type": "code",
   "execution_count": 33,
   "metadata": {},
   "outputs": [
    {
     "data": {
      "text/plain": [
       "['team-headers', 'carousel', 'backgrounds', 'icons', 'people']"
      ]
     },
     "execution_count": 33,
     "metadata": {},
     "output_type": "execute_result"
    }
   ],
   "source": [
    "import os\n",
    "\n",
    "[x[0] for x in os.walk('./website-flat/')]\n",
    "\n",
    "os.listdir('./website-flat')\n",
    "\n",
    "[dir for dir in os.listdir('./website-flat/') if '.' not in dir]"
   ]
  }
 ],
 "metadata": {
  "kernelspec": {
   "display_name": "Python 3.8.9 64-bit",
   "language": "python",
   "name": "python3"
  },
  "language_info": {
   "codemirror_mode": {
    "name": "ipython",
    "version": 3
   },
   "file_extension": ".py",
   "mimetype": "text/x-python",
   "name": "python",
   "nbconvert_exporter": "python",
   "pygments_lexer": "ipython3",
   "version": "3.9.6"
  },
  "orig_nbformat": 4,
  "vscode": {
   "interpreter": {
    "hash": "31f2aee4e71d21fbe5cf8b01ff0e069b9275f58929596ceb00d14d90e3e16cd6"
   }
  }
 },
 "nbformat": 4,
 "nbformat_minor": 2
}
